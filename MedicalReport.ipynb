{
 "cells": [
  {
   "cell_type": "code",
   "execution_count": 16,
   "id": "2bd654db-43ce-4cab-b94c-66a0f646729f",
   "metadata": {},
   "outputs": [
    {
     "name": "stdout",
     "output_type": "stream",
     "text": [
      "Requirement already satisfied: faker in c:\\users\\joshu\\anaconda3\\lib\\site-packages (25.9.1)\n",
      "Requirement already satisfied: python-dateutil>=2.4 in c:\\users\\joshu\\anaconda3\\lib\\site-packages (from faker) (2.8.2)\n",
      "Requirement already satisfied: six>=1.5 in c:\\users\\joshu\\anaconda3\\lib\\site-packages (from python-dateutil>=2.4->faker) (1.16.0)\n"
     ]
    }
   ],
   "source": [
    "!pip install faker"
   ]
  },
  {
   "cell_type": "code",
   "execution_count": 17,
   "id": "034cc788-fe16-4b55-863f-b45b7c4d830b",
   "metadata": {},
   "outputs": [
    {
     "name": "stdout",
     "output_type": "stream",
     "text": [
      "0.28.0\n"
     ]
    }
   ],
   "source": [
    "import openai\n",
    "\n",
    "print(openai.__version__)\n"
   ]
  },
  {
   "cell_type": "code",
   "execution_count": 18,
   "id": "2cb59bd5-0687-4f9e-8085-6ba92a11c454",
   "metadata": {},
   "outputs": [
    {
     "name": "stdout",
     "output_type": "stream",
     "text": [
      "Requirement already satisfied: openai==0.28 in c:\\users\\joshu\\anaconda3\\lib\\site-packages (0.28.0)\n",
      "Requirement already satisfied: requests>=2.20 in c:\\users\\joshu\\anaconda3\\lib\\site-packages (from openai==0.28) (2.31.0)\n",
      "Requirement already satisfied: tqdm in c:\\users\\joshu\\anaconda3\\lib\\site-packages (from openai==0.28) (4.65.0)\n",
      "Requirement already satisfied: aiohttp in c:\\users\\joshu\\anaconda3\\lib\\site-packages (from openai==0.28) (3.9.3)\n",
      "Requirement already satisfied: charset-normalizer<4,>=2 in c:\\users\\joshu\\anaconda3\\lib\\site-packages (from requests>=2.20->openai==0.28) (2.0.4)\n",
      "Requirement already satisfied: idna<4,>=2.5 in c:\\users\\joshu\\anaconda3\\lib\\site-packages (from requests>=2.20->openai==0.28) (3.4)\n",
      "Requirement already satisfied: urllib3<3,>=1.21.1 in c:\\users\\joshu\\anaconda3\\lib\\site-packages (from requests>=2.20->openai==0.28) (2.0.7)\n",
      "Requirement already satisfied: certifi>=2017.4.17 in c:\\users\\joshu\\anaconda3\\lib\\site-packages (from requests>=2.20->openai==0.28) (2024.2.2)\n",
      "Requirement already satisfied: aiosignal>=1.1.2 in c:\\users\\joshu\\anaconda3\\lib\\site-packages (from aiohttp->openai==0.28) (1.2.0)\n",
      "Requirement already satisfied: attrs>=17.3.0 in c:\\users\\joshu\\anaconda3\\lib\\site-packages (from aiohttp->openai==0.28) (23.1.0)\n",
      "Requirement already satisfied: frozenlist>=1.1.1 in c:\\users\\joshu\\anaconda3\\lib\\site-packages (from aiohttp->openai==0.28) (1.4.0)\n",
      "Requirement already satisfied: multidict<7.0,>=4.5 in c:\\users\\joshu\\anaconda3\\lib\\site-packages (from aiohttp->openai==0.28) (6.0.4)\n",
      "Requirement already satisfied: yarl<2.0,>=1.0 in c:\\users\\joshu\\anaconda3\\lib\\site-packages (from aiohttp->openai==0.28) (1.9.3)\n",
      "Requirement already satisfied: colorama in c:\\users\\joshu\\anaconda3\\lib\\site-packages (from tqdm->openai==0.28) (0.4.6)\n"
     ]
    }
   ],
   "source": [
    "!pip install openai==0.28"
   ]
  },
  {
   "cell_type": "code",
   "execution_count": 19,
   "id": "d731ba97-276f-42a8-a37e-1ba881c709a3",
   "metadata": {},
   "outputs": [
    {
     "name": "stdout",
     "output_type": "stream",
     "text": [
      "Requirement already satisfied: reportlab in c:\\users\\joshu\\anaconda3\\lib\\site-packages (4.2.2)\n",
      "Requirement already satisfied: pillow>=9.0.0 in c:\\users\\joshu\\anaconda3\\lib\\site-packages (from reportlab) (10.2.0)\n",
      "Requirement already satisfied: chardet in c:\\users\\joshu\\anaconda3\\lib\\site-packages (from reportlab) (4.0.0)\n"
     ]
    }
   ],
   "source": [
    "!pip install reportlab"
   ]
  },
  {
   "cell_type": "code",
   "execution_count": 20,
   "id": "55dad688-b9b1-4e67-b3a3-14f212c837eb",
   "metadata": {},
   "outputs": [
    {
     "name": "stdin",
     "output_type": "stream",
     "text": [
      "Enter patient's name:  John Doe\n",
      "Enter patient's age:  45\n",
      "Enter patient's gender:  Male\n",
      "Enter medical history:  Family has history of Lung Cancer\n",
      "Smoking (Yes/No):  No\n",
      "Alcohol consumption (None/Moderate/Heavy):  Moderate\n",
      "Exercise (None/Occasional/Regular):  Occasional\n",
      "Enter current symptoms:  Frequent shortness of breath in exercises regarding cardio\n",
      "Enter any additional information:  No asthma\n"
     ]
    },
    {
     "name": "stdout",
     "output_type": "stream",
     "text": [
      "PDF report created successfully at C:/Users/joshu/Documents/Desktop/health_report1.pdf.\n"
     ]
    }
   ],
   "source": [
    "import os\n",
    "import openai\n",
    "from reportlab.lib.pagesizes import letter\n",
    "from reportlab.lib.styles import getSampleStyleSheet\n",
    "from reportlab.platypus import SimpleDocTemplate, Paragraph, Spacer\n",
    "\n",
    "openai.api_key = os.getenv('OPENAI_API_KEY')\n",
    "\n",
    "def generate_medical_description(age, gender, symptoms, additional_info):\n",
    "    prompt = f\"Generate a detailed medical description for a {age}-year-old {gender} with the following symptoms: {symptoms}. Additional information: {additional_info}\"\n",
    "    response = openai.ChatCompletion.create(\n",
    "        model=\"gpt-3.5-turbo\",\n",
    "        messages=[\n",
    "            {\"role\": \"system\", \"content\": \"You are a helpful assistant.\"},\n",
    "            {\"role\": \"user\", \"content\": prompt}\n",
    "        ]\n",
    "    )\n",
    "    return response['choices'][0]['message']['content'].strip()\n",
    "\n",
    "def create_pdf(report, filename):\n",
    "    doc = SimpleDocTemplate(filename, pagesize=letter)\n",
    "    styles = getSampleStyleSheet()\n",
    "    flowables = []\n",
    "\n",
    "    # Title\n",
    "    title = Paragraph(\"Personalized Health Report\", styles['Title'])\n",
    "    flowables.append(title)\n",
    "    flowables.append(Spacer(1, 12))\n",
    "\n",
    "    # Patient Information\n",
    "    patient_info = f\"Name: {report['name']}<br/>Age: {report['age']}<br/>Gender: {report['gender']}\"\n",
    "    flowables.append(Paragraph(patient_info, styles['Normal']))\n",
    "    flowables.append(Spacer(1, 12))\n",
    "\n",
    "    # Medical History\n",
    "    flowables.append(Paragraph(\"Medical History:\", styles['Heading2']))\n",
    "    flowables.append(Paragraph(report['medical_history'], styles['Normal']))\n",
    "    flowables.append(Spacer(1, 12))\n",
    "\n",
    "    # Lifestyle Data\n",
    "    lifestyle_info = f\"Smoking: {report['lifestyle']['smoking']}<br/>Alcohol: {report['lifestyle']['alcohol']}<br/>Exercise: {report['lifestyle']['exercise']}\"\n",
    "    flowables.append(Paragraph(\"Lifestyle:\", styles['Heading2']))\n",
    "    flowables.append(Paragraph(lifestyle_info, styles['Normal']))\n",
    "    flowables.append(Spacer(1, 12))\n",
    "\n",
    "    # Current Symptoms\n",
    "    flowables.append(Paragraph(\"Current Symptoms:\", styles['Heading2']))\n",
    "    flowables.append(Paragraph(report['current_symptoms'], styles['Normal']))\n",
    "    flowables.append(Spacer(1, 12))\n",
    "\n",
    "    # Recommendations\n",
    "    flowables.append(Paragraph(\"Recommendations:\", styles['Heading2']))\n",
    "    flowables.append(Paragraph(report['recommendations'], styles['Normal']))\n",
    "    flowables.append(Spacer(1, 12))\n",
    "\n",
    "    # Build PDF\n",
    "    doc.build(flowables)\n",
    "\n",
    "def collect_patient_info():\n",
    "    name = input(\"Enter patient's name: \")\n",
    "    age = input(\"Enter patient's age: \")\n",
    "    gender = input(\"Enter patient's gender: \")\n",
    "    medical_history = input(\"Enter medical history: \")\n",
    "    smoking = input(\"Smoking (Yes/No): \")\n",
    "    alcohol = input(\"Alcohol consumption (None/Moderate/Heavy): \")\n",
    "    exercise = input(\"Exercise (None/Occasional/Regular): \")\n",
    "    current_symptoms = input(\"Enter current symptoms: \")\n",
    "    additional_info = input(\"Enter any additional information: \")\n",
    "\n",
    "    return {\n",
    "        \"name\": name,\n",
    "        \"age\": age,\n",
    "        \"gender\": gender,\n",
    "        \"medical_history\": medical_history,\n",
    "        \"lifestyle\": {\n",
    "            \"smoking\": smoking,\n",
    "            \"alcohol\": alcohol,\n",
    "            \"exercise\": exercise\n",
    "        },\n",
    "        \"current_symptoms\": current_symptoms,\n",
    "        \"additional_info\": additional_info\n",
    "    }\n",
    "\n",
    "patient_info = collect_patient_info()\n",
    "patient_info[\"recommendations\"] = generate_medical_description(\n",
    "    patient_info[\"age\"],\n",
    "    patient_info[\"gender\"],\n",
    "    patient_info[\"current_symptoms\"],\n",
    "    patient_info[\"additional_info\"]\n",
    ")\n",
    "\n",
    "directory = \"C:/Users/joshu/Documents/Desktop/\"\n",
    "file_name = \"health_report1.pdf\"\n",
    "full_path = os.path.join(directory, file_name)\n",
    "\n",
    "if not os.path.exists(directory):\n",
    "    os.makedirs(directory)\n",
    "\n",
    "create_pdf(patient_info, full_path)\n",
    "\n",
    "print(f\"PDF report created successfully at {full_path}.\")\n"
   ]
  }
 ],
 "metadata": {
  "kernelspec": {
   "display_name": "Python 3 (ipykernel)",
   "language": "python",
   "name": "python3"
  },
  "language_info": {
   "codemirror_mode": {
    "name": "ipython",
    "version": 3
   },
   "file_extension": ".py",
   "mimetype": "text/x-python",
   "name": "python",
   "nbconvert_exporter": "python",
   "pygments_lexer": "ipython3",
   "version": "3.11.7"
  }
 },
 "nbformat": 4,
 "nbformat_minor": 5
}
